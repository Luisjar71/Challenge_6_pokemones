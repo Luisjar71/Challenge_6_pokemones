{
 "cells": [
  {
   "cell_type": "markdown",
   "metadata": {},
   "source": [
    "# Como cree mis tablas en DB Brower for SQLite"
   ]
  },
  {
   "cell_type": "code",
   "execution_count": null,
   "metadata": {},
   "outputs": [],
   "source": [
    "import sqlite3\n",
    "\n",
    "# Conexión a la base de datos SQLite\n",
    "conexion = sqlite3.connect('Pokemon')\n",
    "\n",
    "\n",
    "# Se crea un cursor para ejecutar comandos SQL\n",
    "cursor = conexion.cursor()\n",
    "\n",
    "# Crear tabla Pokemones\n",
    "cursor.execute('''\n",
    "CREATE TABLE Pokemones(\n",
    "    id_pokemon INTEGER PRIMARY KEY,\n",
    "    pokemon_nombre VARCHAR,\n",
    "    tipo VARCHAR,\n",
    "    habilidad VARCHAR,\n",
    "    estadisticas VARCHAR\n",
    ")\n",
    "''')\n",
    "\n",
    "#Crear tabla entrenadores\n",
    "cursor.execute('''\n",
    "CREATE TABLE Entrenadores(\n",
    "    id_entrenador INTEGER PRIMARY KEY,\n",
    "    nombre VARCHAR,\n",
    "    edad INTEGER,\n",
    "    ciudad VARCHAR,\n",
    "    medallas VARCHAR\n",
    ")\n",
    "''')\n",
    "\n",
    "#Crear tabla Pokentrenador\n",
    "cursor.execute('''\n",
    "CREATE TABLE Pokentrenador(\n",
    "    id_pokemon INTEGER,\n",
    "    id_entrenador INTEGER,\n",
    "    PRIMARY KEY (id_pokemon, id_entrenador),\n",
    "    FOREIGN KEY (id_pokemon) REFERENCES pokemones(id_pokemon),\n",
    "    FOREIGN KEY (id_entrenador) REFERENCES entrenadores(id_entrenador)\n",
    ")\n",
    "''')\n",
    "\n",
    "# Crear tabla de batallas\n",
    "cursor.execute('''\n",
    "CREATE TABLE batallas( \n",
    "    batalla_id INTEGER PRIMARY KEY,\n",
    "  id_entrenador1 INTEGER,\n",
    "  id_pokemon1_1 INTEGER,\n",
    "  id_pokemon1_2 INTEGER,\n",
    "  id_pokemon1_3 INTEGER,\n",
    "  id_entrenador2 INTEGER,\n",
    "  id_pokemon2_1 INTEGER,\n",
    "  id_pokemon2_2 INTEGER,\n",
    "  id_pokemon2_3 INTEGER,\n",
    "  ganador INTEGER,\n",
    "  fecha DATE,\n",
    "  resultado VARCHAR,\n",
    "  FOREIGN KEY (id_entrenador1) REFERENCES entrenadores(id_entrenador),\n",
    "  FOREIGN KEY (id_pokemon1_1) REFERENCES pokemones(id_pokemon),\n",
    "  FOREIGN KEY (id_pokemon1_2) REFERENCES pokemones(id_pokemon),\n",
    "  FOREIGN KEY (id_pokemon1_3) REFERENCES pokemones(id_pokemon),\n",
    "  FOREIGN KEY (id_entrenador2) REFERENCES entrenadores(id_entrenador),\n",
    "  FOREIGN KEY (id_pokemon2_1) REFERENCES pokemones(id_pokemon),\n",
    "  FOREIGN KEY (id_pokemon2_2) REFERENCES pokemones(id_pokemon),\n",
    "  FOREIGN KEY (id_pokemon2_3) REFERENCES pokemones(id_pokemon),\n",
    "  FOREIGN KEY (ganador) REFERENCES entrenadores(id_entrenador)\n",
    ")\n",
    "''')\n",
    "\n",
    "# Guardar cambios y cerrar la conexión\n",
    "conexion.commit()\n",
    "conexion.close() "
   ]
  },
  {
   "cell_type": "markdown",
   "metadata": {},
   "source": [
    "# Utilizando consultas dentro de la base de datos"
   ]
  },
  {
   "cell_type": "code",
   "execution_count": null,
   "metadata": {},
   "outputs": [],
   "source": [
    "#Agregando datos de batallas en la tabla \"batallas\"\n",
    "\n",
    "cursor.execute('''\n",
    "INSERT INTO batallas (batalla_id, id_entrenador1, id_pokemon1_1, id_pokemon1_2, id_pokemon1_3, id_entrenador2, id_pokemon2_1, id_pokemon2_2, id_pokemon2_3, ganador, fecha, resultado) VALUES\n",
    "(1, 1, 2, 4, 10, 2, 3, 7, 11, 1, '2024-07-22', 'Paul Scholes ganó usando Ivysaur, Charmander y Caterpie contra Venusaur, Squirtle y Metapod'),\n",
    "(2, 3, 6, 8, 12, 4, 18, 23, 24, 3, '2024-07-23', 'Cristiano Ronaldo ganó usando Charizard, Wartortle y Butterfree contra Pidgeot, Ekans y Arbok'),\n",
    "(3, 2, 21, 27, 28, 5, 1, 5, 9, 5, '2024-07-24', 'Luis Jara ganó usando Bulbasaur, Charmeleon y Blastoise contra Spearow, Sandshrew y Sandslash')\n",
    "''')"
   ]
  },
  {
   "cell_type": "code",
   "execution_count": null,
   "metadata": {},
   "outputs": [],
   "source": [
    "#Agregando pokemones a la tabla \"pokemones\" \n",
    "\n",
    "cursor.execute('''\n",
    "INSERT INTO pokemones (id_pokemon, pokemon_nombre, tipo, habilidad, estadisticas) VALUES\n",
    "(1, 'Bulbasaur', 'Planta/Veneno', 'Clorofila', 'HP: 45, Ataque: 49, Defensa: 49'),\n",
    "(2, 'Ivysaur', 'Planta/Veneno', 'Clorofila', 'HP: 60, Ataque: 62, Defensa: 63'),\n",
    "(3, 'Venusaur', 'Planta/Veneno', 'Clorofila', 'HP: 80, Ataque: 82, Defensa: 83')\n",
    "''')"
   ]
  },
  {
   "cell_type": "code",
   "execution_count": null,
   "metadata": {},
   "outputs": [],
   "source": [
    "# Agregando entrenadores a la tabla \"entrenadores\"\n",
    "\n",
    "cursor.execute('''\n",
    "INSERT INTO entrenadores (id_entrenador, nombre, edad, ciudad, numero_medallas) VALUES\n",
    "(1, 'Paul Scholes', 49, 'Salford', 23),\n",
    "(2, 'Bruno Fernandes', 29, 'Oporto', 4),\n",
    "(3, 'Cristiano Ronaldo', 39, 'Lisboa', 19),\n",
    "(4, 'Lionel Messi', 36, 'Rosario', 25),\n",
    "(5, 'Luis Jara', 34, 'Asunción', 17)\n",
    "''')"
   ]
  },
  {
   "cell_type": "code",
   "execution_count": null,
   "metadata": {},
   "outputs": [],
   "source": [
    "# Agregando pokemones a los entrenadores\n",
    "\n",
    "cursor.execute('''\n",
    "INSERT INTO pokentrenador (id_pokemon, id_entrenador) VALUES\n",
    "(1, 5),  -- Bulbasaur\n",
    "(5, 5),  -- Charmeleon\n",
    "(9, 5),  -- Blastoise\n",
    "(33, 5), -- Nidorino\n",
    "(17, 5), -- Pidgeotto\n",
    "(15, 5); -- Beedrill\n",
    "''')"
   ]
  },
  {
   "cell_type": "code",
   "execution_count": null,
   "metadata": {},
   "outputs": [],
   "source": [
    "# Eliminar tablas \n",
    "\n",
    "cursor.execute('''\n",
    "DROP TABLE IF EXISTS batallas\n",
    "''')"
   ]
  },
  {
   "cell_type": "code",
   "execution_count": null,
   "metadata": {},
   "outputs": [],
   "source": [
    "# Cantidad de pokemones por tipo\n",
    "\n",
    "cursor.execute('''\n",
    "SELECT tipo, COUNT(tipo)\n",
    "FROM pokemones\n",
    "GROUP BY tipo\n",
    "''')"
   ]
  },
  {
   "cell_type": "code",
   "execution_count": null,
   "metadata": {},
   "outputs": [],
   "source": [
    "# Eliminando pokemones\n",
    "\n",
    "cursor.execute('''\n",
    "DELETE \n",
    "FROM pokemones \n",
    "WHERE id = 1\n",
    "''')"
   ]
  },
  {
   "cell_type": "code",
   "execution_count": null,
   "metadata": {},
   "outputs": [],
   "source": [
    "#Actualizando datos dentro de la tabla entrenadores\n",
    "\n",
    "cursor.execute('''\n",
    "UPDATE entrenadores\n",
    "SET numero_medallas = 21\n",
    "WHERE id_entrenador = 1\n",
    "''')"
   ]
  }
 ],
 "metadata": {
  "language_info": {
   "name": "python"
  }
 },
 "nbformat": 4,
 "nbformat_minor": 2
}
